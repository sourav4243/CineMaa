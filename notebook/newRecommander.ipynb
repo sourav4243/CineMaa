{
 "cells": [
  {
   "cell_type": "code",
   "execution_count": 1,
   "id": "00b78bbf-9fd8-4ced-9421-29b745b9e5fe",
   "metadata": {},
   "outputs": [],
   "source": [
    "import numpy as np\n",
    "import pandas as pd"
   ]
  },
  {
   "cell_type": "code",
   "execution_count": 2,
   "id": "3cfa1cf4-14d0-47e9-ada9-42f5e48898d1",
   "metadata": {},
   "outputs": [],
   "source": [
    "movies = pd.read_csv('Top_10000_Movies_IMDb.csv')"
   ]
  },
  {
   "cell_type": "code",
   "execution_count": 3,
   "id": "915adaff-a85b-4bd2-8c79-5c8d2353ed10",
   "metadata": {},
   "outputs": [
    {
     "data": {
      "text/html": [
       "<div>\n",
       "<style scoped>\n",
       "    .dataframe tbody tr th:only-of-type {\n",
       "        vertical-align: middle;\n",
       "    }\n",
       "\n",
       "    .dataframe tbody tr th {\n",
       "        vertical-align: top;\n",
       "    }\n",
       "\n",
       "    .dataframe thead th {\n",
       "        text-align: right;\n",
       "    }\n",
       "</style>\n",
       "<table border=\"1\" class=\"dataframe\">\n",
       "  <thead>\n",
       "    <tr style=\"text-align: right;\">\n",
       "      <th></th>\n",
       "      <th>ID</th>\n",
       "      <th>Movie Name</th>\n",
       "      <th>Rating</th>\n",
       "      <th>Runtime</th>\n",
       "      <th>Genre</th>\n",
       "      <th>Metascore</th>\n",
       "      <th>Plot</th>\n",
       "      <th>Directors</th>\n",
       "      <th>Stars</th>\n",
       "      <th>Votes</th>\n",
       "      <th>Gross</th>\n",
       "      <th>Link</th>\n",
       "    </tr>\n",
       "  </thead>\n",
       "  <tbody>\n",
       "    <tr>\n",
       "      <th>0</th>\n",
       "      <td>1</td>\n",
       "      <td>The Shawshank Redemption</td>\n",
       "      <td>9.3</td>\n",
       "      <td>142 min</td>\n",
       "      <td>Drama</td>\n",
       "      <td>82.0</td>\n",
       "      <td>Over the course of several years, two convicts...</td>\n",
       "      <td>['Frank Darabont', 'Tim Robbins', 'Morgan Free...</td>\n",
       "      <td>['Tim Robbins', 'Morgan Freeman', 'Bob Gunton'...</td>\n",
       "      <td>2752419</td>\n",
       "      <td>28341469</td>\n",
       "      <td>https://www.imdb.com/title/tt0111161/</td>\n",
       "    </tr>\n",
       "  </tbody>\n",
       "</table>\n",
       "</div>"
      ],
      "text/plain": [
       "   ID                Movie Name  Rating  Runtime  Genre  Metascore  \\\n",
       "0   1  The Shawshank Redemption     9.3  142 min  Drama       82.0   \n",
       "\n",
       "                                                Plot  \\\n",
       "0  Over the course of several years, two convicts...   \n",
       "\n",
       "                                           Directors  \\\n",
       "0  ['Frank Darabont', 'Tim Robbins', 'Morgan Free...   \n",
       "\n",
       "                                               Stars    Votes     Gross  \\\n",
       "0  ['Tim Robbins', 'Morgan Freeman', 'Bob Gunton'...  2752419  28341469   \n",
       "\n",
       "                                    Link  \n",
       "0  https://www.imdb.com/title/tt0111161/  "
      ]
     },
     "execution_count": 3,
     "metadata": {},
     "output_type": "execute_result"
    }
   ],
   "source": [
    "movies.head(1)"
   ]
  },
  {
   "cell_type": "code",
   "execution_count": 4,
   "id": "afb70573-d450-4559-98c5-da31869b96b5",
   "metadata": {},
   "outputs": [],
   "source": [
    "movies = movies[['Movie Name','Genre','Plot','Directors','Stars','Rating']]"
   ]
  },
  {
   "cell_type": "code",
   "execution_count": 5,
   "id": "9e5dede0-453f-4961-a6c1-4ebd63bcef1d",
   "metadata": {},
   "outputs": [
    {
     "data": {
      "text/plain": [
       "array([\"['Frank Darabont', 'Tim Robbins', 'Morgan Freeman', 'Bob Gunton', 'William Sadler']\"],\n",
       "      dtype=object)"
      ]
     },
     "execution_count": 5,
     "metadata": {},
     "output_type": "execute_result"
    }
   ],
   "source": [
    "movies.head(1)['Directors'].values"
   ]
  },
  {
   "cell_type": "code",
   "execution_count": 6,
   "id": "077246f3-0d00-429c-938d-3f9ca49011f9",
   "metadata": {},
   "outputs": [
    {
     "data": {
      "text/plain": [
       "array([\"['Tim Robbins', 'Morgan Freeman', 'Bob Gunton', 'William Sadler']\"],\n",
       "      dtype=object)"
      ]
     },
     "execution_count": 6,
     "metadata": {},
     "output_type": "execute_result"
    }
   ],
   "source": [
    "movies.head(1)['Stars'].values"
   ]
  },
  {
   "cell_type": "code",
   "execution_count": 7,
   "id": "7c435d60-7536-4535-a0e9-b077206d5058",
   "metadata": {},
   "outputs": [],
   "source": [
    "import ast\n",
    "def convertStringToList(obj):\n",
    "    return ast.literal_eval(obj)"
   ]
  },
  {
   "cell_type": "code",
   "execution_count": 8,
   "id": "f6f2934e-c014-439f-9c41-e7e6304b248d",
   "metadata": {},
   "outputs": [],
   "source": [
    "movies['Stars'] = movies['Stars'].apply(convertStringToList)"
   ]
  },
  {
   "cell_type": "code",
   "execution_count": 9,
   "id": "89954165-1f37-4ed3-9f49-4538d1b54d06",
   "metadata": {},
   "outputs": [],
   "source": [
    "movies['Directors'] = movies['Directors'].apply(convertStringToList)"
   ]
  },
  {
   "cell_type": "code",
   "execution_count": 10,
   "id": "33b510df-c3ce-4e55-a504-a4576ada479c",
   "metadata": {},
   "outputs": [],
   "source": [
    "def returnFirstName(obj):\n",
    "    l = []\n",
    "    l.append(obj[0])\n",
    "    return (l)"
   ]
  },
  {
   "cell_type": "code",
   "execution_count": 11,
   "id": "c632c81b-a120-4689-9272-1a6f0ff0e448",
   "metadata": {},
   "outputs": [
    {
     "data": {
      "text/plain": [
       "0             [Frank Darabont]\n",
       "1       [Francis Ford Coppola]\n",
       "2                  [Ram Mohan]\n",
       "3              [Ertem Egilmez]\n",
       "4           [Lenka Debiprasad]\n",
       "                 ...          \n",
       "9994             [Eric Brevig]\n",
       "9995      [John Carl Buechler]\n",
       "9996             [Henry Joost]\n",
       "9997      [Alexandros Avranas]\n",
       "9998       [Grégory Levasseur]\n",
       "Name: Directors, Length: 9999, dtype: object"
      ]
     },
     "execution_count": 11,
     "metadata": {},
     "output_type": "execute_result"
    }
   ],
   "source": [
    "movies['Directors'].apply(returnFirstName)"
   ]
  },
  {
   "cell_type": "code",
   "execution_count": 12,
   "id": "2ab215ea-3827-482f-814e-d768da4e2c07",
   "metadata": {},
   "outputs": [],
   "source": [
    "movies['Directors'] = movies['Directors'].apply(returnFirstName)"
   ]
  },
  {
   "cell_type": "code",
   "execution_count": 13,
   "id": "8f163574-00ca-4f94-b6dd-efffd035b225",
   "metadata": {},
   "outputs": [],
   "source": [
    "movies['Plot'] = movies['Plot'].apply(lambda x:x.split())"
   ]
  },
  {
   "cell_type": "code",
   "execution_count": 14,
   "id": "ccd85400-cf3a-46f5-a370-32cd67b04edc",
   "metadata": {},
   "outputs": [
    {
     "data": {
      "text/html": [
       "<div>\n",
       "<style scoped>\n",
       "    .dataframe tbody tr th:only-of-type {\n",
       "        vertical-align: middle;\n",
       "    }\n",
       "\n",
       "    .dataframe tbody tr th {\n",
       "        vertical-align: top;\n",
       "    }\n",
       "\n",
       "    .dataframe thead th {\n",
       "        text-align: right;\n",
       "    }\n",
       "</style>\n",
       "<table border=\"1\" class=\"dataframe\">\n",
       "  <thead>\n",
       "    <tr style=\"text-align: right;\">\n",
       "      <th></th>\n",
       "      <th>Movie Name</th>\n",
       "      <th>Genre</th>\n",
       "      <th>Plot</th>\n",
       "      <th>Directors</th>\n",
       "      <th>Stars</th>\n",
       "      <th>Rating</th>\n",
       "    </tr>\n",
       "  </thead>\n",
       "  <tbody>\n",
       "    <tr>\n",
       "      <th>0</th>\n",
       "      <td>The Shawshank Redemption</td>\n",
       "      <td>Drama</td>\n",
       "      <td>[Over, the, course, of, several, years,, two, ...</td>\n",
       "      <td>[Frank Darabont]</td>\n",
       "      <td>[Tim Robbins, Morgan Freeman, Bob Gunton, Will...</td>\n",
       "      <td>9.3</td>\n",
       "    </tr>\n",
       "    <tr>\n",
       "      <th>1</th>\n",
       "      <td>The Godfather</td>\n",
       "      <td>Crime, Drama</td>\n",
       "      <td>[Don, Vito, Corleone,, head, of, a, mafia, fam...</td>\n",
       "      <td>[Francis Ford Coppola]</td>\n",
       "      <td>[Marlon Brando, Al Pacino, James Caan, Diane K...</td>\n",
       "      <td>9.2</td>\n",
       "    </tr>\n",
       "    <tr>\n",
       "      <th>2</th>\n",
       "      <td>Ramayana: The Legend of Prince Rama</td>\n",
       "      <td>Animation, Action, Adventure</td>\n",
       "      <td>[An, anime, adaptation, of, the, Hindu, epic, ...</td>\n",
       "      <td>[Ram Mohan]</td>\n",
       "      <td>[Yûgô Sakô, Koichi Saski, Arun Govil, Nikhil K...</td>\n",
       "      <td>9.2</td>\n",
       "    </tr>\n",
       "    <tr>\n",
       "      <th>3</th>\n",
       "      <td>The Chaos Class</td>\n",
       "      <td>Comedy, Drama</td>\n",
       "      <td>[Lazy,, uneducated, students, share, a, very, ...</td>\n",
       "      <td>[Ertem Egilmez]</td>\n",
       "      <td>[Kemal Sunal, Münir Özkul, Halit Akçatepe, Tar...</td>\n",
       "      <td>9.2</td>\n",
       "    </tr>\n",
       "    <tr>\n",
       "      <th>4</th>\n",
       "      <td>Daman</td>\n",
       "      <td>Adventure, Drama</td>\n",
       "      <td>[The, film, is, set, in, 2015., Sid,, is, a, y...</td>\n",
       "      <td>[Lenka Debiprasad]</td>\n",
       "      <td>[Vishal Mourya, Karan Kandhapan, Babushan Moha...</td>\n",
       "      <td>9.1</td>\n",
       "    </tr>\n",
       "  </tbody>\n",
       "</table>\n",
       "</div>"
      ],
      "text/plain": [
       "                            Movie Name                         Genre  \\\n",
       "0             The Shawshank Redemption                         Drama   \n",
       "1                        The Godfather                  Crime, Drama   \n",
       "2  Ramayana: The Legend of Prince Rama  Animation, Action, Adventure   \n",
       "3                      The Chaos Class                 Comedy, Drama   \n",
       "4                                Daman              Adventure, Drama   \n",
       "\n",
       "                                                Plot               Directors  \\\n",
       "0  [Over, the, course, of, several, years,, two, ...        [Frank Darabont]   \n",
       "1  [Don, Vito, Corleone,, head, of, a, mafia, fam...  [Francis Ford Coppola]   \n",
       "2  [An, anime, adaptation, of, the, Hindu, epic, ...             [Ram Mohan]   \n",
       "3  [Lazy,, uneducated, students, share, a, very, ...         [Ertem Egilmez]   \n",
       "4  [The, film, is, set, in, 2015., Sid,, is, a, y...      [Lenka Debiprasad]   \n",
       "\n",
       "                                               Stars  Rating  \n",
       "0  [Tim Robbins, Morgan Freeman, Bob Gunton, Will...     9.3  \n",
       "1  [Marlon Brando, Al Pacino, James Caan, Diane K...     9.2  \n",
       "2  [Yûgô Sakô, Koichi Saski, Arun Govil, Nikhil K...     9.2  \n",
       "3  [Kemal Sunal, Münir Özkul, Halit Akçatepe, Tar...     9.2  \n",
       "4  [Vishal Mourya, Karan Kandhapan, Babushan Moha...     9.1  "
      ]
     },
     "execution_count": 14,
     "metadata": {},
     "output_type": "execute_result"
    }
   ],
   "source": [
    "movies.head()"
   ]
  },
  {
   "cell_type": "code",
   "execution_count": 15,
   "id": "edd3460f-e589-4f2d-85c3-729f340537a9",
   "metadata": {},
   "outputs": [],
   "source": [
    "#removing spaces in between names\n",
    "movies['Directors'] = movies['Directors'].apply(lambda x: [i.replace(\" \",\"\") for i in x])\n",
    "movies['Stars'] = movies['Stars'].apply(lambda x: [i.replace(\" \",\"\") for i in x])"
   ]
  },
  {
   "cell_type": "code",
   "execution_count": 16,
   "id": "7793c8b0-227d-4429-a611-030ea1d27d8f",
   "metadata": {},
   "outputs": [],
   "source": [
    "def convertList(obj):\n",
    "    obj = obj.split(',')\n",
    "    return obj"
   ]
  },
  {
   "cell_type": "code",
   "execution_count": 17,
   "id": "843f89cd-06b2-40d3-bc78-bef3f455a912",
   "metadata": {},
   "outputs": [],
   "source": [
    "movies['Genre'] = movies['Genre'].apply(convertList)"
   ]
  },
  {
   "cell_type": "code",
   "execution_count": 18,
   "id": "57ba7079",
   "metadata": {},
   "outputs": [],
   "source": [
    "movies['Genre'] = movies['Genre'].apply(lambda x: [i.replace(\" \",\"\") for i in x])"
   ]
  },
  {
   "cell_type": "code",
   "execution_count": 19,
   "id": "cf6cd45d-aac3-4d4e-ab86-458360ba1827",
   "metadata": {},
   "outputs": [
    {
     "data": {
      "text/html": [
       "<div>\n",
       "<style scoped>\n",
       "    .dataframe tbody tr th:only-of-type {\n",
       "        vertical-align: middle;\n",
       "    }\n",
       "\n",
       "    .dataframe tbody tr th {\n",
       "        vertical-align: top;\n",
       "    }\n",
       "\n",
       "    .dataframe thead th {\n",
       "        text-align: right;\n",
       "    }\n",
       "</style>\n",
       "<table border=\"1\" class=\"dataframe\">\n",
       "  <thead>\n",
       "    <tr style=\"text-align: right;\">\n",
       "      <th></th>\n",
       "      <th>Movie Name</th>\n",
       "      <th>Genre</th>\n",
       "      <th>Plot</th>\n",
       "      <th>Directors</th>\n",
       "      <th>Stars</th>\n",
       "      <th>Rating</th>\n",
       "    </tr>\n",
       "  </thead>\n",
       "  <tbody>\n",
       "    <tr>\n",
       "      <th>0</th>\n",
       "      <td>The Shawshank Redemption</td>\n",
       "      <td>[Drama]</td>\n",
       "      <td>[Over, the, course, of, several, years,, two, ...</td>\n",
       "      <td>[FrankDarabont]</td>\n",
       "      <td>[TimRobbins, MorganFreeman, BobGunton, William...</td>\n",
       "      <td>9.3</td>\n",
       "    </tr>\n",
       "    <tr>\n",
       "      <th>1</th>\n",
       "      <td>The Godfather</td>\n",
       "      <td>[Crime, Drama]</td>\n",
       "      <td>[Don, Vito, Corleone,, head, of, a, mafia, fam...</td>\n",
       "      <td>[FrancisFordCoppola]</td>\n",
       "      <td>[MarlonBrando, AlPacino, JamesCaan, DianeKeaton]</td>\n",
       "      <td>9.2</td>\n",
       "    </tr>\n",
       "    <tr>\n",
       "      <th>2</th>\n",
       "      <td>Ramayana: The Legend of Prince Rama</td>\n",
       "      <td>[Animation, Action, Adventure]</td>\n",
       "      <td>[An, anime, adaptation, of, the, Hindu, epic, ...</td>\n",
       "      <td>[RamMohan]</td>\n",
       "      <td>[YûgôSakô, KoichiSaski, ArunGovil, NikhilKapoo...</td>\n",
       "      <td>9.2</td>\n",
       "    </tr>\n",
       "    <tr>\n",
       "      <th>3</th>\n",
       "      <td>The Chaos Class</td>\n",
       "      <td>[Comedy, Drama]</td>\n",
       "      <td>[Lazy,, uneducated, students, share, a, very, ...</td>\n",
       "      <td>[ErtemEgilmez]</td>\n",
       "      <td>[KemalSunal, MünirÖzkul, HalitAkçatepe, TarikA...</td>\n",
       "      <td>9.2</td>\n",
       "    </tr>\n",
       "    <tr>\n",
       "      <th>4</th>\n",
       "      <td>Daman</td>\n",
       "      <td>[Adventure, Drama]</td>\n",
       "      <td>[The, film, is, set, in, 2015., Sid,, is, a, y...</td>\n",
       "      <td>[LenkaDebiprasad]</td>\n",
       "      <td>[VishalMourya, KaranKandhapan, BabushanMohanty...</td>\n",
       "      <td>9.1</td>\n",
       "    </tr>\n",
       "  </tbody>\n",
       "</table>\n",
       "</div>"
      ],
      "text/plain": [
       "                            Movie Name                           Genre  \\\n",
       "0             The Shawshank Redemption                         [Drama]   \n",
       "1                        The Godfather                  [Crime, Drama]   \n",
       "2  Ramayana: The Legend of Prince Rama  [Animation, Action, Adventure]   \n",
       "3                      The Chaos Class                 [Comedy, Drama]   \n",
       "4                                Daman              [Adventure, Drama]   \n",
       "\n",
       "                                                Plot             Directors  \\\n",
       "0  [Over, the, course, of, several, years,, two, ...       [FrankDarabont]   \n",
       "1  [Don, Vito, Corleone,, head, of, a, mafia, fam...  [FrancisFordCoppola]   \n",
       "2  [An, anime, adaptation, of, the, Hindu, epic, ...            [RamMohan]   \n",
       "3  [Lazy,, uneducated, students, share, a, very, ...        [ErtemEgilmez]   \n",
       "4  [The, film, is, set, in, 2015., Sid,, is, a, y...     [LenkaDebiprasad]   \n",
       "\n",
       "                                               Stars  Rating  \n",
       "0  [TimRobbins, MorganFreeman, BobGunton, William...     9.3  \n",
       "1   [MarlonBrando, AlPacino, JamesCaan, DianeKeaton]     9.2  \n",
       "2  [YûgôSakô, KoichiSaski, ArunGovil, NikhilKapoo...     9.2  \n",
       "3  [KemalSunal, MünirÖzkul, HalitAkçatepe, TarikA...     9.2  \n",
       "4  [VishalMourya, KaranKandhapan, BabushanMohanty...     9.1  "
      ]
     },
     "execution_count": 19,
     "metadata": {},
     "output_type": "execute_result"
    }
   ],
   "source": [
    "movies.head()"
   ]
  },
  {
   "cell_type": "code",
   "execution_count": 20,
   "id": "b449c2c0-4eab-42a9-a0f9-01fc12a5e2b6",
   "metadata": {},
   "outputs": [],
   "source": [
    "movies['tags'] = movies['Genre'] + movies['Plot'] + movies['Directors'] + movies['Stars']"
   ]
  },
  {
   "cell_type": "code",
   "execution_count": 21,
   "id": "4dc83707-9d14-4752-aa5d-1f1fceb97864",
   "metadata": {},
   "outputs": [
    {
     "data": {
      "text/html": [
       "<div>\n",
       "<style scoped>\n",
       "    .dataframe tbody tr th:only-of-type {\n",
       "        vertical-align: middle;\n",
       "    }\n",
       "\n",
       "    .dataframe tbody tr th {\n",
       "        vertical-align: top;\n",
       "    }\n",
       "\n",
       "    .dataframe thead th {\n",
       "        text-align: right;\n",
       "    }\n",
       "</style>\n",
       "<table border=\"1\" class=\"dataframe\">\n",
       "  <thead>\n",
       "    <tr style=\"text-align: right;\">\n",
       "      <th></th>\n",
       "      <th>Movie Name</th>\n",
       "      <th>Genre</th>\n",
       "      <th>Plot</th>\n",
       "      <th>Directors</th>\n",
       "      <th>Stars</th>\n",
       "      <th>Rating</th>\n",
       "      <th>tags</th>\n",
       "    </tr>\n",
       "  </thead>\n",
       "  <tbody>\n",
       "    <tr>\n",
       "      <th>0</th>\n",
       "      <td>The Shawshank Redemption</td>\n",
       "      <td>[Drama]</td>\n",
       "      <td>[Over, the, course, of, several, years,, two, ...</td>\n",
       "      <td>[FrankDarabont]</td>\n",
       "      <td>[TimRobbins, MorganFreeman, BobGunton, William...</td>\n",
       "      <td>9.3</td>\n",
       "      <td>[Drama, Over, the, course, of, several, years,...</td>\n",
       "    </tr>\n",
       "    <tr>\n",
       "      <th>1</th>\n",
       "      <td>The Godfather</td>\n",
       "      <td>[Crime, Drama]</td>\n",
       "      <td>[Don, Vito, Corleone,, head, of, a, mafia, fam...</td>\n",
       "      <td>[FrancisFordCoppola]</td>\n",
       "      <td>[MarlonBrando, AlPacino, JamesCaan, DianeKeaton]</td>\n",
       "      <td>9.2</td>\n",
       "      <td>[Crime, Drama, Don, Vito, Corleone,, head, of,...</td>\n",
       "    </tr>\n",
       "    <tr>\n",
       "      <th>2</th>\n",
       "      <td>Ramayana: The Legend of Prince Rama</td>\n",
       "      <td>[Animation, Action, Adventure]</td>\n",
       "      <td>[An, anime, adaptation, of, the, Hindu, epic, ...</td>\n",
       "      <td>[RamMohan]</td>\n",
       "      <td>[YûgôSakô, KoichiSaski, ArunGovil, NikhilKapoo...</td>\n",
       "      <td>9.2</td>\n",
       "      <td>[Animation, Action, Adventure, An, anime, adap...</td>\n",
       "    </tr>\n",
       "    <tr>\n",
       "      <th>3</th>\n",
       "      <td>The Chaos Class</td>\n",
       "      <td>[Comedy, Drama]</td>\n",
       "      <td>[Lazy,, uneducated, students, share, a, very, ...</td>\n",
       "      <td>[ErtemEgilmez]</td>\n",
       "      <td>[KemalSunal, MünirÖzkul, HalitAkçatepe, TarikA...</td>\n",
       "      <td>9.2</td>\n",
       "      <td>[Comedy, Drama, Lazy,, uneducated, students, s...</td>\n",
       "    </tr>\n",
       "    <tr>\n",
       "      <th>4</th>\n",
       "      <td>Daman</td>\n",
       "      <td>[Adventure, Drama]</td>\n",
       "      <td>[The, film, is, set, in, 2015., Sid,, is, a, y...</td>\n",
       "      <td>[LenkaDebiprasad]</td>\n",
       "      <td>[VishalMourya, KaranKandhapan, BabushanMohanty...</td>\n",
       "      <td>9.1</td>\n",
       "      <td>[Adventure, Drama, The, film, is, set, in, 201...</td>\n",
       "    </tr>\n",
       "  </tbody>\n",
       "</table>\n",
       "</div>"
      ],
      "text/plain": [
       "                            Movie Name                           Genre  \\\n",
       "0             The Shawshank Redemption                         [Drama]   \n",
       "1                        The Godfather                  [Crime, Drama]   \n",
       "2  Ramayana: The Legend of Prince Rama  [Animation, Action, Adventure]   \n",
       "3                      The Chaos Class                 [Comedy, Drama]   \n",
       "4                                Daman              [Adventure, Drama]   \n",
       "\n",
       "                                                Plot             Directors  \\\n",
       "0  [Over, the, course, of, several, years,, two, ...       [FrankDarabont]   \n",
       "1  [Don, Vito, Corleone,, head, of, a, mafia, fam...  [FrancisFordCoppola]   \n",
       "2  [An, anime, adaptation, of, the, Hindu, epic, ...            [RamMohan]   \n",
       "3  [Lazy,, uneducated, students, share, a, very, ...        [ErtemEgilmez]   \n",
       "4  [The, film, is, set, in, 2015., Sid,, is, a, y...     [LenkaDebiprasad]   \n",
       "\n",
       "                                               Stars  Rating  \\\n",
       "0  [TimRobbins, MorganFreeman, BobGunton, William...     9.3   \n",
       "1   [MarlonBrando, AlPacino, JamesCaan, DianeKeaton]     9.2   \n",
       "2  [YûgôSakô, KoichiSaski, ArunGovil, NikhilKapoo...     9.2   \n",
       "3  [KemalSunal, MünirÖzkul, HalitAkçatepe, TarikA...     9.2   \n",
       "4  [VishalMourya, KaranKandhapan, BabushanMohanty...     9.1   \n",
       "\n",
       "                                                tags  \n",
       "0  [Drama, Over, the, course, of, several, years,...  \n",
       "1  [Crime, Drama, Don, Vito, Corleone,, head, of,...  \n",
       "2  [Animation, Action, Adventure, An, anime, adap...  \n",
       "3  [Comedy, Drama, Lazy,, uneducated, students, s...  \n",
       "4  [Adventure, Drama, The, film, is, set, in, 201...  "
      ]
     },
     "execution_count": 21,
     "metadata": {},
     "output_type": "execute_result"
    }
   ],
   "source": [
    "movies.head()"
   ]
  },
  {
   "cell_type": "code",
   "execution_count": 22,
   "id": "a622c483-6d51-4034-b78a-891349c9e5de",
   "metadata": {},
   "outputs": [],
   "source": [
    "newData = movies[['Movie Name','tags']]"
   ]
  },
  {
   "cell_type": "code",
   "execution_count": 23,
   "id": "a28250f5-7b72-48e8-b0e4-66778810b21e",
   "metadata": {},
   "outputs": [
    {
     "data": {
      "text/html": [
       "<div>\n",
       "<style scoped>\n",
       "    .dataframe tbody tr th:only-of-type {\n",
       "        vertical-align: middle;\n",
       "    }\n",
       "\n",
       "    .dataframe tbody tr th {\n",
       "        vertical-align: top;\n",
       "    }\n",
       "\n",
       "    .dataframe thead th {\n",
       "        text-align: right;\n",
       "    }\n",
       "</style>\n",
       "<table border=\"1\" class=\"dataframe\">\n",
       "  <thead>\n",
       "    <tr style=\"text-align: right;\">\n",
       "      <th></th>\n",
       "      <th>Movie Name</th>\n",
       "      <th>tags</th>\n",
       "    </tr>\n",
       "  </thead>\n",
       "  <tbody>\n",
       "    <tr>\n",
       "      <th>0</th>\n",
       "      <td>The Shawshank Redemption</td>\n",
       "      <td>[Drama, Over, the, course, of, several, years,...</td>\n",
       "    </tr>\n",
       "    <tr>\n",
       "      <th>1</th>\n",
       "      <td>The Godfather</td>\n",
       "      <td>[Crime, Drama, Don, Vito, Corleone,, head, of,...</td>\n",
       "    </tr>\n",
       "    <tr>\n",
       "      <th>2</th>\n",
       "      <td>Ramayana: The Legend of Prince Rama</td>\n",
       "      <td>[Animation, Action, Adventure, An, anime, adap...</td>\n",
       "    </tr>\n",
       "    <tr>\n",
       "      <th>3</th>\n",
       "      <td>The Chaos Class</td>\n",
       "      <td>[Comedy, Drama, Lazy,, uneducated, students, s...</td>\n",
       "    </tr>\n",
       "    <tr>\n",
       "      <th>4</th>\n",
       "      <td>Daman</td>\n",
       "      <td>[Adventure, Drama, The, film, is, set, in, 201...</td>\n",
       "    </tr>\n",
       "  </tbody>\n",
       "</table>\n",
       "</div>"
      ],
      "text/plain": [
       "                            Movie Name  \\\n",
       "0             The Shawshank Redemption   \n",
       "1                        The Godfather   \n",
       "2  Ramayana: The Legend of Prince Rama   \n",
       "3                      The Chaos Class   \n",
       "4                                Daman   \n",
       "\n",
       "                                                tags  \n",
       "0  [Drama, Over, the, course, of, several, years,...  \n",
       "1  [Crime, Drama, Don, Vito, Corleone,, head, of,...  \n",
       "2  [Animation, Action, Adventure, An, anime, adap...  \n",
       "3  [Comedy, Drama, Lazy,, uneducated, students, s...  \n",
       "4  [Adventure, Drama, The, film, is, set, in, 201...  "
      ]
     },
     "execution_count": 23,
     "metadata": {},
     "output_type": "execute_result"
    }
   ],
   "source": [
    "newData.head()"
   ]
  },
  {
   "cell_type": "code",
   "execution_count": 24,
   "id": "e74a3cce-41d8-498c-bd59-0c634101c541",
   "metadata": {},
   "outputs": [
    {
     "name": "stderr",
     "output_type": "stream",
     "text": [
      "/tmp/ipykernel_150860/411501372.py:1: SettingWithCopyWarning: \n",
      "A value is trying to be set on a copy of a slice from a DataFrame.\n",
      "Try using .loc[row_indexer,col_indexer] = value instead\n",
      "\n",
      "See the caveats in the documentation: https://pandas.pydata.org/pandas-docs/stable/user_guide/indexing.html#returning-a-view-versus-a-copy\n",
      "  newData['tags'] = newData['tags'].apply(lambda x: \" \".join(x))\n"
     ]
    }
   ],
   "source": [
    "newData['tags'] = newData['tags'].apply(lambda x: \" \".join(x))"
   ]
  },
  {
   "cell_type": "code",
   "execution_count": 25,
   "id": "29c900dc-2423-4220-984c-55977606c437",
   "metadata": {},
   "outputs": [
    {
     "data": {
      "text/html": [
       "<div>\n",
       "<style scoped>\n",
       "    .dataframe tbody tr th:only-of-type {\n",
       "        vertical-align: middle;\n",
       "    }\n",
       "\n",
       "    .dataframe tbody tr th {\n",
       "        vertical-align: top;\n",
       "    }\n",
       "\n",
       "    .dataframe thead th {\n",
       "        text-align: right;\n",
       "    }\n",
       "</style>\n",
       "<table border=\"1\" class=\"dataframe\">\n",
       "  <thead>\n",
       "    <tr style=\"text-align: right;\">\n",
       "      <th></th>\n",
       "      <th>Movie Name</th>\n",
       "      <th>tags</th>\n",
       "    </tr>\n",
       "  </thead>\n",
       "  <tbody>\n",
       "    <tr>\n",
       "      <th>0</th>\n",
       "      <td>The Shawshank Redemption</td>\n",
       "      <td>Drama Over the course of several years, two co...</td>\n",
       "    </tr>\n",
       "    <tr>\n",
       "      <th>1</th>\n",
       "      <td>The Godfather</td>\n",
       "      <td>Crime Drama Don Vito Corleone, head of a mafia...</td>\n",
       "    </tr>\n",
       "    <tr>\n",
       "      <th>2</th>\n",
       "      <td>Ramayana: The Legend of Prince Rama</td>\n",
       "      <td>Animation Action Adventure An anime adaptation...</td>\n",
       "    </tr>\n",
       "    <tr>\n",
       "      <th>3</th>\n",
       "      <td>The Chaos Class</td>\n",
       "      <td>Comedy Drama Lazy, uneducated students share a...</td>\n",
       "    </tr>\n",
       "    <tr>\n",
       "      <th>4</th>\n",
       "      <td>Daman</td>\n",
       "      <td>Adventure Drama The film is set in 2015. Sid, ...</td>\n",
       "    </tr>\n",
       "  </tbody>\n",
       "</table>\n",
       "</div>"
      ],
      "text/plain": [
       "                            Movie Name  \\\n",
       "0             The Shawshank Redemption   \n",
       "1                        The Godfather   \n",
       "2  Ramayana: The Legend of Prince Rama   \n",
       "3                      The Chaos Class   \n",
       "4                                Daman   \n",
       "\n",
       "                                                tags  \n",
       "0  Drama Over the course of several years, two co...  \n",
       "1  Crime Drama Don Vito Corleone, head of a mafia...  \n",
       "2  Animation Action Adventure An anime adaptation...  \n",
       "3  Comedy Drama Lazy, uneducated students share a...  \n",
       "4  Adventure Drama The film is set in 2015. Sid, ...  "
      ]
     },
     "execution_count": 25,
     "metadata": {},
     "output_type": "execute_result"
    }
   ],
   "source": [
    "newData.head()"
   ]
  },
  {
   "cell_type": "code",
   "execution_count": 26,
   "id": "144c8ff4-b614-4f52-9a1e-8e845f5cecc7",
   "metadata": {},
   "outputs": [
    {
     "data": {
      "text/plain": [
       "'Drama Over the course of several years, two convicts form a friendship, seeking consolation and, eventually, redemption through basic compassion. FrankDarabont TimRobbins MorganFreeman BobGunton WilliamSadler'"
      ]
     },
     "execution_count": 26,
     "metadata": {},
     "output_type": "execute_result"
    }
   ],
   "source": [
    "newData['tags'][0]"
   ]
  },
  {
   "cell_type": "code",
   "execution_count": 27,
   "id": "fd2b4167-d833-47ee-9fde-ecf1f4f38bf0",
   "metadata": {},
   "outputs": [
    {
     "name": "stderr",
     "output_type": "stream",
     "text": [
      "/tmp/ipykernel_150860/734265169.py:2: SettingWithCopyWarning: \n",
      "A value is trying to be set on a copy of a slice from a DataFrame.\n",
      "Try using .loc[row_indexer,col_indexer] = value instead\n",
      "\n",
      "See the caveats in the documentation: https://pandas.pydata.org/pandas-docs/stable/user_guide/indexing.html#returning-a-view-versus-a-copy\n",
      "  newData['tags'] = newData['tags'].apply(lambda x:x.lower())\n"
     ]
    }
   ],
   "source": [
    "#converting to lowercase\n",
    "newData['tags'] = newData['tags'].apply(lambda x:x.lower())"
   ]
  },
  {
   "cell_type": "code",
   "execution_count": 28,
   "id": "fc69d1b1-67d1-4c3f-8009-2379fc6661ff",
   "metadata": {},
   "outputs": [
    {
     "data": {
      "text/plain": [
       "0       drama over the course of several years, two co...\n",
       "1       crime drama don vito corleone, head of a mafia...\n",
       "2       animation action adventure an anime adaptation...\n",
       "3       comedy drama lazy, uneducated students share a...\n",
       "4       adventure drama the film is set in 2015. sid, ...\n",
       "                              ...                        \n",
       "9994    animation adventure comedy a documentary filmm...\n",
       "9995    comedy fantasy horror a wicked troll king in s...\n",
       "9996    horror mystery it has been five years since th...\n",
       "9997    crime drama mystery a murder investigation of ...\n",
       "9998    horror mystery thriller an archaeological team...\n",
       "Name: tags, Length: 9999, dtype: object"
      ]
     },
     "execution_count": 28,
     "metadata": {},
     "output_type": "execute_result"
    }
   ],
   "source": [
    "newData['tags']"
   ]
  },
  {
   "cell_type": "code",
   "execution_count": 29,
   "id": "a76b7093-65b0-4fac-8f0d-9f93407ba098",
   "metadata": {},
   "outputs": [
    {
     "data": {
      "text/html": [
       "<div>\n",
       "<style scoped>\n",
       "    .dataframe tbody tr th:only-of-type {\n",
       "        vertical-align: middle;\n",
       "    }\n",
       "\n",
       "    .dataframe tbody tr th {\n",
       "        vertical-align: top;\n",
       "    }\n",
       "\n",
       "    .dataframe thead th {\n",
       "        text-align: right;\n",
       "    }\n",
       "</style>\n",
       "<table border=\"1\" class=\"dataframe\">\n",
       "  <thead>\n",
       "    <tr style=\"text-align: right;\">\n",
       "      <th></th>\n",
       "      <th>Movie Name</th>\n",
       "      <th>tags</th>\n",
       "    </tr>\n",
       "  </thead>\n",
       "  <tbody>\n",
       "    <tr>\n",
       "      <th>0</th>\n",
       "      <td>The Shawshank Redemption</td>\n",
       "      <td>drama over the course of several years, two co...</td>\n",
       "    </tr>\n",
       "    <tr>\n",
       "      <th>1</th>\n",
       "      <td>The Godfather</td>\n",
       "      <td>crime drama don vito corleone, head of a mafia...</td>\n",
       "    </tr>\n",
       "    <tr>\n",
       "      <th>2</th>\n",
       "      <td>Ramayana: The Legend of Prince Rama</td>\n",
       "      <td>animation action adventure an anime adaptation...</td>\n",
       "    </tr>\n",
       "    <tr>\n",
       "      <th>3</th>\n",
       "      <td>The Chaos Class</td>\n",
       "      <td>comedy drama lazy, uneducated students share a...</td>\n",
       "    </tr>\n",
       "    <tr>\n",
       "      <th>4</th>\n",
       "      <td>Daman</td>\n",
       "      <td>adventure drama the film is set in 2015. sid, ...</td>\n",
       "    </tr>\n",
       "  </tbody>\n",
       "</table>\n",
       "</div>"
      ],
      "text/plain": [
       "                            Movie Name  \\\n",
       "0             The Shawshank Redemption   \n",
       "1                        The Godfather   \n",
       "2  Ramayana: The Legend of Prince Rama   \n",
       "3                      The Chaos Class   \n",
       "4                                Daman   \n",
       "\n",
       "                                                tags  \n",
       "0  drama over the course of several years, two co...  \n",
       "1  crime drama don vito corleone, head of a mafia...  \n",
       "2  animation action adventure an anime adaptation...  \n",
       "3  comedy drama lazy, uneducated students share a...  \n",
       "4  adventure drama the film is set in 2015. sid, ...  "
      ]
     },
     "execution_count": 29,
     "metadata": {},
     "output_type": "execute_result"
    }
   ],
   "source": [
    "newData.head()"
   ]
  },
  {
   "cell_type": "code",
   "execution_count": 30,
   "id": "4314f1fa",
   "metadata": {},
   "outputs": [],
   "source": [
    "import nltk\n",
    "from nltk.stem import PorterStemmer\n",
    "ps = PorterStemmer()"
   ]
  },
  {
   "cell_type": "code",
   "execution_count": 31,
   "id": "ad603b92",
   "metadata": {},
   "outputs": [],
   "source": [
    "def stem(text):\n",
    "    y = []\n",
    "    for i in text.split():\n",
    "        y.append(ps.stem(i))\n",
    "    return \" \".join(y)"
   ]
  },
  {
   "cell_type": "code",
   "execution_count": 32,
   "metadata": {},
   "outputs": [
    {
     "name": "stderr",
     "output_type": "stream",
     "text": [
      "/tmp/ipykernel_150860/2831283580.py:1: SettingWithCopyWarning: \n",
      "A value is trying to be set on a copy of a slice from a DataFrame.\n",
      "Try using .loc[row_indexer,col_indexer] = value instead\n",
      "\n",
      "See the caveats in the documentation: https://pandas.pydata.org/pandas-docs/stable/user_guide/indexing.html#returning-a-view-versus-a-copy\n",
      "  newData['tags'] = newData['tags'].apply(stem)\n"
     ]
    }
   ],
   "source": [
    "newData['tags'] = newData['tags'].apply(stem)"
   ]
  },
  {
   "cell_type": "code",
   "execution_count": 33,
   "id": "e2c9b298",
   "metadata": {},
   "outputs": [
    {
     "data": {
      "text/plain": [
       "'crime drama don vito corleone, head of a mafia family, decid to hand over hi empir to hi youngest son michael. however, hi decis unintent put the live of hi love one in grave danger. francisfordcoppola marlonbrando alpacino jamescaan dianekeaton'"
      ]
     },
     "execution_count": 33,
     "metadata": {},
     "output_type": "execute_result"
    }
   ],
   "source": [
    "newData['tags'][1]"
   ]
  },
  {
   "cell_type": "code",
   "execution_count": 34,
   "id": "46bbaa40",
   "metadata": {},
   "outputs": [],
   "source": [
    "from sklearn.feature_extraction.text import CountVectorizer\n",
    "cv = CountVectorizer(max_features=5000,stop_words='english')"
   ]
  },
  {
   "cell_type": "code",
   "execution_count": 35,
   "id": "1e2b0780",
   "metadata": {},
   "outputs": [],
   "source": [
    "vectors = cv.fit_transform(newData['tags']).toarray()"
   ]
  },
  {
   "cell_type": "code",
   "execution_count": 36,
   "id": "5a3084d3",
   "metadata": {},
   "outputs": [
    {
     "data": {
      "text/plain": [
       "array([[0, 0, 0, ..., 0, 0, 0],\n",
       "       [0, 0, 0, ..., 0, 0, 0],\n",
       "       [0, 0, 0, ..., 0, 0, 0],\n",
       "       ...,\n",
       "       [0, 0, 0, ..., 0, 0, 0],\n",
       "       [0, 0, 0, ..., 0, 0, 0],\n",
       "       [0, 0, 0, ..., 0, 0, 0]])"
      ]
     },
     "execution_count": 36,
     "metadata": {},
     "output_type": "execute_result"
    }
   ],
   "source": [
    "vectors"
   ]
  },
  {
   "cell_type": "code",
   "execution_count": 39,
   "id": "cacb9c53",
   "metadata": {},
   "outputs": [],
   "source": [
    "from sklearn.metrics.pairwise import cosine_similarity\n",
    "from sklearn.decomposition import TruncatedSVD\n",
    "\n",
    "# Dimensionality reduction using TruncatedSVD\n",
    "svd = TruncatedSVD(n_components=100)\n",
    "reduced_vectors = svd.fit_transform(vectors)\n",
    "\n",
    "# Calculate cosine similarity on reduced vectors\n",
    "similarity = cosine_similarity(reduced_vectors)"
   ]
  },
  {
   "cell_type": "code",
   "execution_count": 40,
   "id": "92949c23",
   "metadata": {},
   "outputs": [],
   "source": [
    "def recommend(movie):\n",
    "    movie_index = newData[newData['Movie Name'] == movie].index[0]\n",
    "    distances = similartiy[movie_index]\n",
    "    movies_list = sorted(list(enumerate(distances)),reverse=True,key=lambda x:x[1])[1:6]\n",
    "    for i in movies_list:\n",
    "        print(newData.iloc[i[0]]['Movie Name'])"
   ]
  },
  {
   "cell_type": "code",
   "execution_count": 43,
   "id": "617b6740",
   "metadata": {},
   "outputs": [
    {
     "name": "stdout",
     "output_type": "stream",
     "text": [
      "Nanban\n",
      "Zindagi Na Milegi Dobara\n",
      "Jaane Tu... Ya Jaane Na\n",
      "Fukrey\n",
      "Perfect Strangers\n"
     ]
    }
   ],
   "source": [
    "recommend('3 Idiots')"
   ]
  }
 ],
 "metadata": {
  "kernelspec": {
   "display_name": "Python 3",
   "language": "python",
   "name": "python3"
  },
  "language_info": {
   "codemirror_mode": {
    "name": "ipython",
    "version": 3
   },
   "file_extension": ".py",
   "mimetype": "text/x-python",
   "name": "python",
   "nbconvert_exporter": "python",
   "pygments_lexer": "ipython3",
   "version": "3.12.7"
  }
 },
 "nbformat": 4,
 "nbformat_minor": 5
}
